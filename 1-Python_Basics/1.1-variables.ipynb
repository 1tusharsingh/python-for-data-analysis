{
 "cells": [
  {
   "cell_type": "code",
   "execution_count": 1,
   "metadata": {},
   "outputs": [],
   "source": [
    "a=100"
   ]
  },
  {
   "cell_type": "code",
   "execution_count": null,
   "metadata": {},
   "outputs": [
    {
     "name": "stdout",
     "output_type": "stream",
     "text": [
      "age:  32\n",
      "height:  5.5\n",
      "name:  Tushar\n"
     ]
    }
   ],
   "source": [
    "## Declaring and Assigning variables\n",
    "age=32\n",
    "height=5.5\n",
    "name=\"Tushar\"\n",
    "is_student=True\n",
    "\n",
    "## printing the variables\n",
    "print(\"age: \", age)\n",
    "print(\"height: \", height)\n",
    "print(\"name: \", name)"
   ]
  },
  {
   "cell_type": "code",
   "execution_count": null,
   "metadata": {},
   "outputs": [],
   "source": [
    "## Naming Convention\n",
    "\n",
    "#1 variable names should be descriptive\n",
    "#2 They must always start with a letter or an '_' and contain letters, numbers and underscores\n",
    "#3 variables names case sensitive\n",
    "\n",
    "\n",
    "## valid variable Names\n",
    "\n",
    "first_name=\"Tushar\"\n",
    "last_name=\"Singh\"\n",
    "\n",
    "\n",
    "## Invalid Variable names\n",
    "\n",
    "first-name=\"Tushar\"\n",
    "last-name=\"Singh\"\n",
    "\n",
    "\n",
    "## case sensitive\n",
    "\n",
    "name=\"tushar\"\n",
    "Name=\"tushar\""
   ]
  },
  {
   "cell_type": "code",
   "execution_count": 3,
   "metadata": {},
   "outputs": [
    {
     "name": "stdout",
     "output_type": "stream",
     "text": [
      "<class 'str'>\n"
     ]
    }
   ],
   "source": [
    "## Understanding the Variables Types\n",
    "\n",
    "#1 Python is dynamically typed, type of a variables is determined at runtime\n",
    "\n",
    "age=25 #int\n",
    "height=5.5 #float\n",
    "name=\"tushar\" #string\n",
    "is_student=True\n",
    "\n",
    "print(type(name))"
   ]
  },
  {
   "cell_type": "code",
   "execution_count": 5,
   "metadata": {},
   "outputs": [
    {
     "data": {
      "text/plain": [
       "float"
      ]
     },
     "execution_count": 5,
     "metadata": {},
     "output_type": "execute_result"
    }
   ],
   "source": [
    "## Type Checking and Conversion\n",
    "\n",
    "type(height)"
   ]
  },
  {
   "cell_type": "code",
   "execution_count": 6,
   "metadata": {},
   "outputs": [
    {
     "name": "stdout",
     "output_type": "stream",
     "text": [
      "<class 'int'>\n",
      "22\n",
      "<class 'str'>\n"
     ]
    }
   ],
   "source": [
    "## Type Conversion\n",
    "\n",
    "age=22\n",
    "print(type(age))\n",
    "\n",
    "#conversion\n",
    "age_str=str(age)\n",
    "print(age_str)\n",
    "print(type(age_str))"
   ]
  },
  {
   "cell_type": "code",
   "execution_count": null,
   "metadata": {},
   "outputs": [
    {
     "name": "stdout",
     "output_type": "stream",
     "text": [
      "<class 'int'>\n"
     ]
    }
   ],
   "source": [
    "#example_1\n",
    "age='2'\n",
    "print(type(int(age)))"
   ]
  },
  {
   "cell_type": "code",
   "execution_count": null,
   "metadata": {},
   "outputs": [
    {
     "ename": "ValueError",
     "evalue": "invalid literal for int() with base 10: 'tushar'",
     "output_type": "error",
     "traceback": [
      "\u001b[1;31m---------------------------------------------------------------------------\u001b[0m",
      "\u001b[1;31mValueError\u001b[0m                                Traceback (most recent call last)",
      "Cell \u001b[1;32mIn[8], line 4\u001b[0m\n\u001b[0;32m      1\u001b[0m \u001b[38;5;66;03m#example_2\u001b[39;00m\n\u001b[0;32m      3\u001b[0m name\u001b[38;5;241m=\u001b[39m\u001b[38;5;124m\"\u001b[39m\u001b[38;5;124mtushar\u001b[39m\u001b[38;5;124m\"\u001b[39m\n\u001b[1;32m----> 4\u001b[0m \u001b[38;5;28;43mint\u001b[39;49m\u001b[43m(\u001b[49m\u001b[43mname\u001b[49m\u001b[43m)\u001b[49m\n",
      "\u001b[1;31mValueError\u001b[0m: invalid literal for int() with base 10: 'tushar'"
     ]
    }
   ],
   "source": [
    "#example_2\n",
    "\n",
    "name=\"tushar\"\n",
    "int(name)            #its give error because NAME is a Sentence"
   ]
  },
  {
   "cell_type": "code",
   "execution_count": 9,
   "metadata": {},
   "outputs": [
    {
     "data": {
      "text/plain": [
       "float"
      ]
     },
     "execution_count": 9,
     "metadata": {},
     "output_type": "execute_result"
    }
   ],
   "source": [
    "#example_3\n",
    "\n",
    "height=5.5\n",
    "type(height)\n"
   ]
  },
  {
   "cell_type": "code",
   "execution_count": 10,
   "metadata": {},
   "outputs": [
    {
     "data": {
      "text/plain": [
       "5"
      ]
     },
     "execution_count": 10,
     "metadata": {},
     "output_type": "execute_result"
    }
   ],
   "source": [
    "int(height)"
   ]
  },
  {
   "cell_type": "code",
   "execution_count": 11,
   "metadata": {},
   "outputs": [
    {
     "data": {
      "text/plain": [
       "5.0"
      ]
     },
     "execution_count": 11,
     "metadata": {},
     "output_type": "execute_result"
    }
   ],
   "source": [
    "float(int(height))"
   ]
  },
  {
   "cell_type": "code",
   "execution_count": 13,
   "metadata": {},
   "outputs": [
    {
     "name": "stdout",
     "output_type": "stream",
     "text": [
      "10 <class 'int'>\n",
      "hello <class 'str'>\n",
      "3.14 <class 'float'>\n",
      "3.14\n"
     ]
    }
   ],
   "source": [
    "## Dynamic Typing\n",
    "\n",
    "#Python allows the type of a variable to change as the program execute\n",
    "\n",
    "var=10\n",
    "print(var, type(var))\n",
    "\n",
    "var=\"hello\"\n",
    "print(var, type(var))\n",
    "\n",
    "var=3.14\n",
    "print(var, type(var))\n",
    "\n",
    "print(var)"
   ]
  },
  {
   "cell_type": "code",
   "execution_count": 15,
   "metadata": {},
   "outputs": [
    {
     "name": "stdout",
     "output_type": "stream",
     "text": [
      "22\n",
      "21 <class 'int'>\n"
     ]
    }
   ],
   "source": [
    "## Inputs \n",
    "\n",
    "age=input(\"What is the age? \")\n",
    "print(age)\n",
    "\n",
    "age=int(input(\"What is the age? \"))\n",
    "print(age, type(age))"
   ]
  },
  {
   "cell_type": "code",
   "execution_count": 18,
   "metadata": {},
   "outputs": [
    {
     "name": "stdout",
     "output_type": "stream",
     "text": [
      "Sum:  17.0\n",
      "Differences:  7.0\n",
      "product:  60.0\n",
      "Quotient:  2.4\n"
     ]
    }
   ],
   "source": [
    "### Simple calculator\n",
    "\n",
    "num1 = float(input(\"Enter the First Number: \"))\n",
    "num2 = float(input(\"Enter the Second Number: \"))\n",
    "\n",
    "sum = num1 + num2\n",
    "differences = num1 - num2\n",
    "product = num1 * num2\n",
    "quotient = num1 / num2\n",
    "\n",
    "print(\"Sum: \", sum)\n",
    "print(\"Differences: \", differences)\n",
    "print(\"product: \", product)\n",
    "print(\"Quotient: \", quotient)\n"
   ]
  }
 ],
 "metadata": {
  "kernelspec": {
   "display_name": "venv",
   "language": "python",
   "name": "python3"
  },
  "language_info": {
   "codemirror_mode": {
    "name": "ipython",
    "version": 3
   },
   "file_extension": ".py",
   "mimetype": "text/x-python",
   "name": "python",
   "nbconvert_exporter": "python",
   "pygments_lexer": "ipython3",
   "version": "3.13.0"
  }
 },
 "nbformat": 4,
 "nbformat_minor": 2
}
