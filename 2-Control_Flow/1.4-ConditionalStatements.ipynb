{
 "cells": [
  {
   "cell_type": "code",
   "execution_count": 1,
   "metadata": {},
   "outputs": [
    {
     "name": "stdout",
     "output_type": "stream",
     "text": [
      "You are allowed to Vote in the Elections\n"
     ]
    }
   ],
   "source": [
    "## If Statement\n",
    "age=20\n",
    "\n",
    "if age>=18:\n",
    "    print(\"You are allowed to Vote in the Elections\")"
   ]
  },
  {
   "cell_type": "code",
   "execution_count": 2,
   "metadata": {},
   "outputs": [
    {
     "name": "stdout",
     "output_type": "stream",
     "text": [
      "You are Not Eligible for Voting\n"
     ]
    }
   ],
   "source": [
    "## Else Statement\n",
    "# The else statement executes a block of code if the condition in the if statement is False:\n",
    "\n",
    "age=16\n",
    "\n",
    "if age>=18:\n",
    "    print(\"You are Eligible for Voting\")\n",
    "else:\n",
    "    print(\"You are Not Eligible for Voting\")\n"
   ]
  },
  {
   "cell_type": "code",
   "execution_count": 6,
   "metadata": {},
   "outputs": [
    {
     "name": "stdout",
     "output_type": "stream",
     "text": [
      "You are a Teenager\n"
     ]
    }
   ],
   "source": [
    "## Elif Statement\n",
    "# The eif statement allows you to check for multiple conditions. It stands for \"Else If\"\n",
    "\n",
    "age=16\n",
    "\n",
    "if age<13:\n",
    "    print(\"You are a child\")\n",
    "elif age<18:\n",
    "    print(\"You are a Teenager\")\n",
    "else:\n",
    "    print(\"You are an Adult\")        "
   ]
  },
  {
   "cell_type": "code",
   "execution_count": 8,
   "metadata": {},
   "outputs": [
    {
     "name": "stdout",
     "output_type": "stream",
     "text": [
      "The number is negative\n"
     ]
    }
   ],
   "source": [
    "## Nested Conditional Statements\n",
    "# You can place one or more if, elif, or else statement inside another if, elif, or else statement to create Nested Conditional Statements\n",
    "\n",
    "num=int(input(\"Enter an Number\"))\n",
    "\n",
    "if num>=0:\n",
    "    print(\"The number is positive\")\n",
    "    if num%2==0:\n",
    "        print(\"Number is Even\")\n",
    "    else:\n",
    "        print(\"Number is odd\")    \n",
    "else:\n",
    "    print(\"The number is negative\")        "
   ]
  },
  {
   "cell_type": "code",
   "execution_count": 13,
   "metadata": {},
   "outputs": [
    {
     "name": "stdout",
     "output_type": "stream",
     "text": [
      "2024 is a Leap Year\n"
     ]
    }
   ],
   "source": [
    "## Practical Examples\n",
    "\n",
    "#Determine if a year is a leap year using nested conditional statement\n",
    "\n",
    "year=int(input(\"Enter the year: \"))\n",
    "\n",
    "if(year%4==0):\n",
    "    if(year%100==0):\n",
    "        if(year%400==0):\n",
    "            print(year,\"is a Leap Year\")\n",
    "        else:\n",
    "            print(year,\"is Not a Leap Year\")  \n",
    "    else:\n",
    "        print(year, \"is a Leap Year\")\n",
    "else:\n",
    "    print(year, \"is not a Leap Year\")                 "
   ]
  },
  {
   "cell_type": "markdown",
   "metadata": {},
   "source": [
    "#### Assignments\n",
    "\n",
    "1. Simple calculator Program \n",
    "2. Determine the ticket price based on age and weather the person is a student"
   ]
  },
  {
   "cell_type": "code",
   "execution_count": null,
   "metadata": {},
   "outputs": [
    {
     "name": "stdout",
     "output_type": "stream",
     "text": [
      "0.7959183673469388\n"
     ]
    }
   ],
   "source": [
    "# 1.Calculator:\n",
    "\n",
    "num1=float(input(\"Enter First number: \"))\n",
    "num2=float(input(\"Enter Second number: \"))\n",
    "operations=input(\"Enter operation you want to perform:(+,-,*,/): \")\n",
    "\n",
    "if operations == '+':\n",
    "    result=num1+num2\n",
    "elif operations == '-':\n",
    "    result=num1-num2\n",
    "elif operations == '*':\n",
    "    result=num1*num2\n",
    "elif operations == '/':\n",
    "    if num2 != 0:\n",
    "        result=num1/num2  \n",
    "    else:\n",
    "        result = \"Error Division\"  \n",
    "else:\n",
    "    result = \"Invalid value\"          \n",
    "\n",
    "print(result)\n",
    "\n"
   ]
  },
  {
   "cell_type": "code",
   "execution_count": null,
   "metadata": {},
   "outputs": [
    {
     "name": "stdout",
     "output_type": "stream",
     "text": [
      "$18\n"
     ]
    }
   ],
   "source": [
    "#Determine the ticket price based on age and weather the person is a student\n",
    "\n",
    "age=int(input(\"what is your Age?\"))\n",
    "is_student = input(\"are you a Student? (yes/no): \").lower()\n",
    "\n",
    "if age<5:\n",
    "    print(\"Free\")\n",
    "elif age<=12:\n",
    "    print(\"$10\")\n",
    "elif age<=17:\n",
    "    if is_student == 'yes':\n",
    "        print(\"$12\")\n",
    "    else:\n",
    "        print(\"$15\")\n",
    "elif age<=64:\n",
    "    if is_student == 'yes':\n",
    "        print(\"$18\")\n",
    "    else:\n",
    "        print(\"$20\")\n",
    "else:\n",
    "    print(\"$20\") "
   ]
  }
 ],
 "metadata": {
  "kernelspec": {
   "display_name": "venv",
   "language": "python",
   "name": "python3"
  },
  "language_info": {
   "codemirror_mode": {
    "name": "ipython",
    "version": 3
   },
   "file_extension": ".py",
   "mimetype": "text/x-python",
   "name": "python",
   "nbconvert_exporter": "python",
   "pygments_lexer": "ipython3",
   "version": "3.13.0"
  }
 },
 "nbformat": 4,
 "nbformat_minor": 2
}
