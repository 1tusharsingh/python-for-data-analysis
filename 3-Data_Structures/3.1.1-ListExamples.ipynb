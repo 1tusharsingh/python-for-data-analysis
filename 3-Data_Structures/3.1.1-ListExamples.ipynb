{
 "cells": [
  {
   "cell_type": "markdown",
   "metadata": {},
   "source": [
    "## Real World Examples Using Lists in Python\n",
    "\n",
    "### Lists are one of the most commonly used data structures in python, thanks to versatility and ease of use.\n",
    "### Here are several practical examples that illustrate thier use in real-world sceanrios"
   ]
  },
  {
   "cell_type": "markdown",
   "metadata": {},
   "source": [
    "# Examples 1. Manage a TO DO List\n",
    "\n",
    "- Create a TO DO List to keep track of Task"
   ]
  },
  {
   "cell_type": "code",
   "execution_count": 3,
   "metadata": {},
   "outputs": [
    {
     "name": "stdout",
     "output_type": "stream",
     "text": [
      "Don't forget to watch at any cost\n",
      "To Do List Remaining\n",
      "-Lecture data Analytics\n",
      "-Machine Learning Lecture\n",
      "-Make 1 Reels\n",
      "-Exercise at evening\n"
     ]
    }
   ],
   "source": [
    "to_do_list = [\"Lecture data Analytics\", \"Machine Learning Lecture\", \"Clean the house\"]\n",
    "\n",
    "## Adding to TAsk\n",
    "to_do_list.append(\"Make 1 Reels\")\n",
    "to_do_list.append(\"Exercise at evening\")\n",
    "\n",
    "## Removing a Completed TAsk\n",
    "to_do_list.remove(\"Clean the house\")\n",
    "\n",
    "## Checking if a task is in the List\n",
    "if \"Machine Learning Lecture\" in to_do_list:\n",
    "    print(\"Don't forget to watch at any cost\")\n",
    "\n",
    "print(\"To Do List Remaining\")\n",
    "for task in to_do_list:\n",
    "    print(f\"-{task}\")    "
   ]
  },
  {
   "cell_type": "markdown",
   "metadata": {},
   "source": [
    "# Examples 2: Organising Student Grades\n",
    "\n",
    "- Create a list to store and calculate average grades for students"
   ]
  },
  {
   "cell_type": "code",
   "execution_count": 8,
   "metadata": {},
   "outputs": [
    {
     "name": "stdout",
     "output_type": "stream",
     "text": [
      "Average grade: 79.5\n",
      "Highest Grade: 90\n",
      "lowest Grade: 65\n"
     ]
    }
   ],
   "source": [
    "# Oraginzing the students grades\n",
    "grades = [88, 72, 73, 89, 90]\n",
    "\n",
    "# Adding a new grade\n",
    "grades.append(65)\n",
    "\n",
    "# Calculating the average grade \n",
    "average_grade = sum(grades) / len(grades)\n",
    "print(f\"Average grade: {average_grade:.2f}\")\n",
    "\n",
    "# Finding the highest and lowest grade\n",
    "highest_grade = max(grades)\n",
    "lowest_grade = min(grades)\n",
    "print(f\"Highest Grade: {highest_grade}\")\n",
    "print(f\"lowest Grade: {lowest_grade}\")"
   ]
  },
  {
   "cell_type": "code",
   "execution_count": null,
   "metadata": {},
   "outputs": [],
   "source": []
  },
  {
   "cell_type": "markdown",
   "metadata": {},
   "source": [
    "# Examples 3: Managing An inventory\n",
    "\n",
    "- Use a list to manage inventory items in a store"
   ]
  },
  {
   "cell_type": "code",
   "execution_count": 10,
   "metadata": {},
   "outputs": [
    {
     "name": "stdout",
     "output_type": "stream",
     "text": [
      "banana are in the stock\n",
      "Inventory Lists: \n",
      "-> banana\n",
      "-> oranges\n",
      "-> guava\n",
      "-> Grapes\n"
     ]
    }
   ],
   "source": [
    "# managing an inventory\n",
    "inventory = [\"apples\", \"banana\", \"oranges\", \"guava\"]\n",
    "\n",
    "# Adding a new items\n",
    "inventory.append(\"Grapes\")\n",
    "\n",
    "# Removing the items that is out of stock\n",
    "inventory.remove(\"apples\")\n",
    "\n",
    "# Checking if an item is in stock\n",
    "item = \"banana\"\n",
    "if item in inventory:\n",
    "    print(f\"{item} are in the stock\")\n",
    "else:\n",
    "    print(f\"{item} are out of stock\")   \n",
    "\n",
    "# printing the Inventory\n",
    "print(\"Inventory Lists: \")\n",
    "for fruits in inventory:\n",
    "    print(f\"-> {fruits}\")    "
   ]
  }
 ],
 "metadata": {
  "kernelspec": {
   "display_name": "Python 3",
   "language": "python",
   "name": "python3"
  },
  "language_info": {
   "codemirror_mode": {
    "name": "ipython",
    "version": 3
   },
   "file_extension": ".py",
   "mimetype": "text/x-python",
   "name": "python",
   "nbconvert_exporter": "python",
   "pygments_lexer": "ipython3",
   "version": "3.12.0"
  }
 },
 "nbformat": 4,
 "nbformat_minor": 2
}
