{
 "cells": [
  {
   "cell_type": "markdown",
   "metadata": {},
   "source": [
    "### Dictionaries\n",
    "\n",
    "# Dictionaries are unordered collections of items. They Store data in Key-value pairs. Keys must be unique and immutable (eg: strings, numbers, or tuples), while valyes can be of any types."
   ]
  },
  {
   "cell_type": "code",
   "execution_count": 1,
   "metadata": {},
   "outputs": [
    {
     "name": "stdout",
     "output_type": "stream",
     "text": [
      "<class 'dict'>\n"
     ]
    }
   ],
   "source": [
    "## Creating Dictionaries\n",
    "\n",
    "empty_dict = {}\n",
    "print(type(empty_dict))"
   ]
  },
  {
   "cell_type": "code",
   "execution_count": 2,
   "metadata": {},
   "outputs": [
    {
     "data": {
      "text/plain": [
       "{}"
      ]
     },
     "execution_count": 2,
     "metadata": {},
     "output_type": "execute_result"
    }
   ],
   "source": [
    "empty_dict=dict()\n",
    "empty_dict"
   ]
  },
  {
   "cell_type": "code",
   "execution_count": 6,
   "metadata": {},
   "outputs": [
    {
     "name": "stdout",
     "output_type": "stream",
     "text": [
      "{'Name': 'Tushar', 'age': 21, 'Grade': 75}\n"
     ]
    }
   ],
   "source": [
    "student = {\"Name\":\"Tushar\", \"age\":21, \"Grade\":75}\n",
    "print(student)"
   ]
  },
  {
   "cell_type": "code",
   "execution_count": 7,
   "metadata": {},
   "outputs": [
    {
     "name": "stdout",
     "output_type": "stream",
     "text": [
      "{'Name': 75, 'age': 21}\n"
     ]
    }
   ],
   "source": [
    "# Single keys is always used\n",
    "\n",
    "student = {\"Name\":\"Tushar\", \"age\":21, \"Name\":75}\n",
    "print(student)\n"
   ]
  },
  {
   "cell_type": "code",
   "execution_count": 12,
   "metadata": {},
   "outputs": [
    {
     "name": "stdout",
     "output_type": "stream",
     "text": [
      "{'Name': 'Tushar', 'age': 21, 'Grade': 'A'}\n",
      "A\n",
      "21\n"
     ]
    }
   ],
   "source": [
    "## Accessing Dictionaries Elements\n",
    "\n",
    "student = {\"Name\":\"Tushar\", \"age\":21, \"Grade\":\"A\"}\n",
    "print(student)\n",
    "\n",
    "print(student['Grade'])\n",
    "print(student['age'])"
   ]
  },
  {
   "cell_type": "code",
   "execution_count": 13,
   "metadata": {},
   "outputs": [
    {
     "name": "stdout",
     "output_type": "stream",
     "text": [
      "A\n",
      "None\n",
      "Not available\n"
     ]
    }
   ],
   "source": [
    "## Accessing using get() method\n",
    "\n",
    "print(student.get('Grade'))\n",
    "print(student.get('last_name'))\n",
    "print(student.get('last_name',\"Not available\"))\n"
   ]
  },
  {
   "cell_type": "code",
   "execution_count": 14,
   "metadata": {},
   "outputs": [
    {
     "name": "stdout",
     "output_type": "stream",
     "text": [
      "{'Name': 'Tushar', 'age': 21, 'Grade': 'A'}\n"
     ]
    }
   ],
   "source": [
    "## Modifying Dictionaries Elements\n",
    "# Dictionaries are mutable, so you can add, updat or delete elements\n",
    "\n",
    "print(student)"
   ]
  },
  {
   "cell_type": "code",
   "execution_count": 16,
   "metadata": {},
   "outputs": [
    {
     "name": "stdout",
     "output_type": "stream",
     "text": [
      "{'Name': 'Tushar', 'age': 25, 'Grade': 'A'}\n",
      "{'Name': 'Tushar', 'age': 25, 'Grade': 'A', 'address': 'India'}\n"
     ]
    }
   ],
   "source": [
    "student[\"age\"]= 25  # Update value for the key\n",
    "print(student)\n",
    "student[\"address\"]=\"India\"  # added a new key and value\n",
    "print(student)"
   ]
  },
  {
   "cell_type": "code",
   "execution_count": 18,
   "metadata": {},
   "outputs": [
    {
     "name": "stdout",
     "output_type": "stream",
     "text": [
      "{'Name': 'Tushar', 'age': 25, 'address': 'India'}\n"
     ]
    }
   ],
   "source": [
    "del student['Grade']  # delete key and value pair\n",
    "\n",
    "print(student)"
   ]
  },
  {
   "cell_type": "code",
   "execution_count": 20,
   "metadata": {},
   "outputs": [
    {
     "name": "stdout",
     "output_type": "stream",
     "text": [
      "dict_keys(['Name', 'age', 'address'])\n",
      "dict_values(['Tushar', 25, 'India'])\n",
      "dict_items([('Name', 'Tushar'), ('age', 25), ('address', 'India')])\n"
     ]
    }
   ],
   "source": [
    "## Dictionaries Methods\n",
    "\n",
    "keys = student.keys()  # get all the keys\n",
    "print(keys)\n",
    "values = student.values()  # get all the values\n",
    "print(values)\n",
    "\n",
    "items = student.items()  # get all the key value pairs\n",
    "print(items)"
   ]
  },
  {
   "cell_type": "code",
   "execution_count": 21,
   "metadata": {},
   "outputs": [
    {
     "name": "stdout",
     "output_type": "stream",
     "text": [
      "{'Name': 'Tushar', 'age': 25, 'address': 'India'}\n",
      "{'Name': 'Tushar', 'age': 25, 'address': 'India'}\n"
     ]
    }
   ],
   "source": [
    "## Shallow Copy\n",
    "\n",
    "student_copy = student\n",
    "print(student)\n",
    "print(student_copy)"
   ]
  },
  {
   "cell_type": "code",
   "execution_count": 23,
   "metadata": {},
   "outputs": [
    {
     "name": "stdout",
     "output_type": "stream",
     "text": [
      "{'Name': 'Tushar1', 'age': 25, 'address': 'India'}\n",
      "{'Name': 'Tushar1', 'age': 25, 'address': 'India'}\n"
     ]
    }
   ],
   "source": [
    "student['Name'] = \"Tushar1\"\n",
    "print(student)\n",
    "print(student_copy)"
   ]
  },
  {
   "cell_type": "code",
   "execution_count": 24,
   "metadata": {},
   "outputs": [
    {
     "name": "stdout",
     "output_type": "stream",
     "text": [
      "{'Name': 'Tushar1', 'age': 25, 'address': 'India'}\n",
      "{'Name': 'Tushar1', 'age': 25, 'address': 'India'}\n"
     ]
    }
   ],
   "source": [
    "student_copy1 = student.copy()  # Shallow Copy (provide diff memory location)\n",
    "print(student_copy1)\n",
    "print(student)"
   ]
  },
  {
   "cell_type": "code",
   "execution_count": 25,
   "metadata": {},
   "outputs": [
    {
     "name": "stdout",
     "output_type": "stream",
     "text": [
      "{'Name': 'Tushar3', 'age': 25, 'address': 'India'}\n",
      "{'Name': 'Tushar1', 'age': 25, 'address': 'India'}\n"
     ]
    }
   ],
   "source": [
    "student[\"Name\"] = \"Tushar3\"\n",
    "print(student)\n",
    "print(student_copy1)"
   ]
  },
  {
   "cell_type": "code",
   "execution_count": 26,
   "metadata": {},
   "outputs": [
    {
     "name": "stdout",
     "output_type": "stream",
     "text": [
      "Name\n",
      "age\n",
      "address\n"
     ]
    }
   ],
   "source": [
    "## Iterating Over Dictionaries\n",
    "# You can use LOOP to Iterate over dictionaries, keys, values, or items\n",
    "\n",
    "# ITERATING OVER KEYS\n",
    "for keys in student.keys():\n",
    "    print(keys)"
   ]
  },
  {
   "cell_type": "code",
   "execution_count": 28,
   "metadata": {},
   "outputs": [
    {
     "name": "stdout",
     "output_type": "stream",
     "text": [
      "Tushar3\n",
      "25\n",
      "India\n"
     ]
    }
   ],
   "source": [
    "# ITERATING OVER VALUES\n",
    "for values in student.values():\n",
    "    print(values)"
   ]
  },
  {
   "cell_type": "code",
   "execution_count": 30,
   "metadata": {},
   "outputs": [
    {
     "name": "stdout",
     "output_type": "stream",
     "text": [
      "Name:Tushar3\n",
      "age:25\n",
      "address:India\n"
     ]
    }
   ],
   "source": [
    "# ITERATING OVER KEYS VALUES PAIRS\n",
    "for key, value in student.items():\n",
    "    print(f\"{key}:{value}\")"
   ]
  },
  {
   "cell_type": "code",
   "execution_count": 31,
   "metadata": {},
   "outputs": [
    {
     "name": "stdout",
     "output_type": "stream",
     "text": [
      "{'student1': {'name': 'satyam', 'age': 14}, 'student2': {'name': 'shivam', 'age': 22}}\n"
     ]
    }
   ],
   "source": [
    "## Nested Dictionaires\n",
    "\n",
    "students={\n",
    "    \"student1\":{\"name\":\"satyam\", \"age\":14},\n",
    "    \"student2\":{\"name\":\"shivam\", \"age\":22}\n",
    "}\n",
    "print(students)"
   ]
  },
  {
   "cell_type": "code",
   "execution_count": 32,
   "metadata": {},
   "outputs": [
    {
     "name": "stdout",
     "output_type": "stream",
     "text": [
      "shivam\n",
      "22\n"
     ]
    }
   ],
   "source": [
    "# Access Nested Dictionaries elements\n",
    "\n",
    "print(students['student2'][\"name\"])\n",
    "print(students['student2'][\"age\"])"
   ]
  },
  {
   "cell_type": "code",
   "execution_count": 33,
   "metadata": {},
   "outputs": [
    {
     "data": {
      "text/plain": [
       "dict_items([('student1', {'name': 'satyam', 'age': 14}), ('student2', {'name': 'shivam', 'age': 22})])"
      ]
     },
     "execution_count": 33,
     "metadata": {},
     "output_type": "execute_result"
    }
   ],
   "source": [
    "students.items()"
   ]
  },
  {
   "cell_type": "code",
   "execution_count": 35,
   "metadata": {},
   "outputs": [
    {
     "name": "stdout",
     "output_type": "stream",
     "text": [
      "student1:{'name': 'satyam', 'age': 14}\n",
      "name:satyam\n",
      "age:14\n",
      "student2:{'name': 'shivam', 'age': 22}\n",
      "name:shivam\n",
      "age:22\n"
     ]
    }
   ],
   "source": [
    "## Itearting over nested dictionaries\n",
    "\n",
    "for student_id, student_info in students.items():\n",
    "    print(f\"{student_id}:{student_info}\")\n",
    "    for key,value in student_info.items():\n",
    "        print(f\"{key}:{value}\")"
   ]
  },
  {
   "cell_type": "code",
   "execution_count": 36,
   "metadata": {},
   "outputs": [
    {
     "name": "stdout",
     "output_type": "stream",
     "text": [
      "{0: 0, 1: 1, 2: 4, 3: 9, 4: 16}\n"
     ]
    }
   ],
   "source": [
    "## Dictionaries Comprehension\n",
    "squares = {x:x**2 for x in range(5)}\n",
    "print(squares)"
   ]
  },
  {
   "cell_type": "code",
   "execution_count": 37,
   "metadata": {},
   "outputs": [
    {
     "name": "stdout",
     "output_type": "stream",
     "text": [
      "{0: 0, 2: 4, 4: 16, 6: 36, 8: 64}\n"
     ]
    }
   ],
   "source": [
    "## Conditional Dictionaries Comprehension\n",
    "\n",
    "evens = {x:x**2 for x in range(10) if x%2==0}\n",
    "print(evens)"
   ]
  },
  {
   "cell_type": "code",
   "execution_count": 38,
   "metadata": {},
   "outputs": [
    {
     "name": "stdout",
     "output_type": "stream",
     "text": [
      "{1: 1, 2: 2, 3: 3, 4: 4}\n"
     ]
    }
   ],
   "source": [
    "## Practical Examples\n",
    "\n",
    "## Use a dictionaries to count the frequency of elements in list\n",
    "numbers = [1,2,2,3,3,3,4,4,4,4]\n",
    "frequency={}\n",
    "\n",
    "for number in numbers:\n",
    "    if number in frequency:\n",
    "        frequency[number]+=1\n",
    "    else:\n",
    "        frequency[number]=1\n",
    "print(frequency)            "
   ]
  },
  {
   "cell_type": "code",
   "execution_count": 39,
   "metadata": {},
   "outputs": [
    {
     "name": "stdout",
     "output_type": "stream",
     "text": [
      "{'a': 1, 'b': 3, 'c': 4}\n"
     ]
    }
   ],
   "source": [
    "## Merge 2 Dictionaries into one\n",
    "\n",
    "dict1={\"a\":1,\"b\":2}\n",
    "dict2={\"b\":3,\"c\":4}\n",
    "merge_dict = {**dict1, **dict2}\n",
    "\n",
    "print(merge_dict)"
   ]
  }
 ],
 "metadata": {
  "kernelspec": {
   "display_name": "Python 3",
   "language": "python",
   "name": "python3"
  },
  "language_info": {
   "codemirror_mode": {
    "name": "ipython",
    "version": 3
   },
   "file_extension": ".py",
   "mimetype": "text/x-python",
   "name": "python",
   "nbconvert_exporter": "python",
   "pygments_lexer": "ipython3",
   "version": "3.12.0"
  }
 },
 "nbformat": 4,
 "nbformat_minor": 2
}
