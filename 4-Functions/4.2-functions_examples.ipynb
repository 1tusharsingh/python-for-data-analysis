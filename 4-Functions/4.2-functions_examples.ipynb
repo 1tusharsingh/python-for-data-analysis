{
 "cells": [
  {
   "cell_type": "markdown",
   "metadata": {},
   "source": [
    "# Examples 1: Temperature Conversion"
   ]
  },
  {
   "cell_type": "code",
   "execution_count": 1,
   "metadata": {},
   "outputs": [
    {
     "name": "stdout",
     "output_type": "stream",
     "text": [
      "1.6666666666666667\n",
      "77.0\n"
     ]
    }
   ],
   "source": [
    "def convert_temperature(temp,unit):\n",
    "    \"\"\"This func convert temperature between celsius and Fahrenheit\"\"\"\n",
    "    if unit=='C':\n",
    "        return temp *9/5 + 32  ## Celsius to Fahrenheit\n",
    "    elif unit=='F':\n",
    "        return (temp-32)*5/9  ## Fahrenheit to Celsius\n",
    "    else:\n",
    "        return None\n",
    "    \n",
    "print(convert_temperature(35,'F'))    \n",
    "print(convert_temperature(25,'C'))    "
   ]
  },
  {
   "cell_type": "markdown",
   "metadata": {},
   "source": [
    "# Examples 2: Password Strength Checker"
   ]
  },
  {
   "cell_type": "code",
   "execution_count": 4,
   "metadata": {},
   "outputs": [
    {
     "name": "stdout",
     "output_type": "stream",
     "text": [
      "False\n",
      "True\n"
     ]
    }
   ],
   "source": [
    "def is_strong_password(password):\n",
    "    \"\"\"This func check if the password is strong or not\"\"\"\n",
    "    if len(password)<8:\n",
    "        return False\n",
    "    if not any(char.isdigit() for char in password): ## wheather is there digit or not\n",
    "        return False\n",
    "    if not any(char.islower() for char in password):\n",
    "        return False\n",
    "    if not any(char.isupper() for char in password):\n",
    "        return False\n",
    "    if not any(char in '@$#*&^%()' for char in password):\n",
    "        return False\n",
    "    return True\n",
    "\n",
    "## Calling the funcc\n",
    "print(is_strong_password(\"TusharSingh123\"))  ## weak password\n",
    "print(is_strong_password(\"@Tushar123Singh##\"))  ## strong password"
   ]
  },
  {
   "cell_type": "markdown",
   "metadata": {},
   "source": [
    "# Examples 3: Calculate the Total Cost of items in a Shopping CArt"
   ]
  },
  {
   "cell_type": "code",
   "execution_count": 11,
   "metadata": {},
   "outputs": [
    {
     "name": "stdout",
     "output_type": "stream",
     "text": [
      "15.5\n"
     ]
    }
   ],
   "source": [
    "def calculate_total_cost(cart):\n",
    "    \"\"\"This func calculate the total cost of items in a shopping cart\"\"\"\n",
    "    total_cost=0\n",
    "    for item in cart:\n",
    "        total_cost+=item['price'] * item['quantity']\n",
    "\n",
    "    return total_cost   \n",
    " \n",
    "\n",
    "## Examples cart data\n",
    "cart = [\n",
    "    {'name':'Apple', 'price':0.3, 'quantity':4},\n",
    "    {'name':'Banana', 'price':0.9, 'quantity':12},\n",
    "    {'name':'Guava', 'price':0.7, 'quantity':5}\n",
    "]\n",
    "\n",
    "## CAlling the func\n",
    "total_cost=calculate_total_cost(cart)\n",
    "print(total_cost)"
   ]
  },
  {
   "cell_type": "markdown",
   "metadata": {},
   "source": [
    "# Examples 4: Check if a String is Palindrome"
   ]
  },
  {
   "cell_type": "code",
   "execution_count": 13,
   "metadata": {},
   "outputs": [
    {
     "name": "stdout",
     "output_type": "stream",
     "text": [
      "True\n",
      "False\n"
     ]
    }
   ],
   "source": [
    "def is_palindrome(s):\n",
    "    \"\"\"This func check string is palindrome or not\"\"\"\n",
    "\n",
    "    s=s.lower().replace(\" \",\"\")\n",
    "    return s == s[::-1]  ## Reverse\n",
    "\n",
    "print(is_palindrome(\"A man a plan a canal Panama\"))\n",
    "print(is_palindrome(\"Hello\"))"
   ]
  },
  {
   "cell_type": "markdown",
   "metadata": {},
   "source": [
    "# Examples 5: Calculate the factorial of a number using recursion"
   ]
  },
  {
   "cell_type": "code",
   "execution_count": 14,
   "metadata": {},
   "outputs": [
    {
     "name": "stdout",
     "output_type": "stream",
     "text": [
      "120\n"
     ]
    }
   ],
   "source": [
    "def factorial(n):  # n=5\n",
    "    if n==0:\n",
    "        return 1\n",
    "    else:\n",
    "        return n*factorial(n-1)  # 5*4*3....\n",
    "    \n",
    "print(factorial(5))   "
   ]
  },
  {
   "cell_type": "markdown",
   "metadata": {},
   "source": [
    "# Examples 6: Validate Emails Address"
   ]
  }
 ],
 "metadata": {
  "kernelspec": {
   "display_name": "Python 3",
   "language": "python",
   "name": "python3"
  },
  "language_info": {
   "codemirror_mode": {
    "name": "ipython",
    "version": 3
   },
   "file_extension": ".py",
   "mimetype": "text/x-python",
   "name": "python",
   "nbconvert_exporter": "python",
   "pygments_lexer": "ipython3",
   "version": "3.12.0"
  }
 },
 "nbformat": 4,
 "nbformat_minor": 2
}
