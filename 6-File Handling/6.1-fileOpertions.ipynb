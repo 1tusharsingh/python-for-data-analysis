{
 "cells": [
  {
   "cell_type": "markdown",
   "metadata": {},
   "source": [
    "# File Operation - Read and Write Files\n",
    "\n",
    "### File Handling is a crucial part of any programming language. Python provides built-in functions and methods to read from and write to files, both text and binary. This lesson will cover the basics of the file handling, including reading and writing text files and binary files"
   ]
  },
  {
   "cell_type": "code",
   "execution_count": 1,
   "metadata": {},
   "outputs": [
    {
     "name": "stdout",
     "output_type": "stream",
     "text": [
      "Hello how are you?\n",
      "- Im good\n",
      "Tushar is my name\n"
     ]
    }
   ],
   "source": [
    "# Read a Whole File\n",
    "\n",
    "with open('example.txt', 'r') as file:  # Open file for reading\n",
    "    content = file.read()  # Read the entire file\n",
    "    print(content)"
   ]
  },
  {
   "cell_type": "code",
   "execution_count": 3,
   "metadata": {},
   "outputs": [
    {
     "name": "stdout",
     "output_type": "stream",
     "text": [
      "Hello how are you?\n",
      "- Im good\n",
      "Tushar is my name\n"
     ]
    }
   ],
   "source": [
    "# Read a file line by line\n",
    "\n",
    "with open('example.txt', 'r') as file:\n",
    "    for line in file:\n",
    "        print(line.strip())  # Remove newline character\n",
    "        "
   ]
  },
  {
   "cell_type": "code",
   "execution_count": 4,
   "metadata": {},
   "outputs": [],
   "source": [
    "# Writing a File (overwriting)\n",
    "\n",
    "with open('example.txt', 'w') as file:\n",
    "    file.write('This is the first line\\n')\n",
    "    file.write('This is the second line\\n')"
   ]
  },
  {
   "cell_type": "code",
   "execution_count": 5,
   "metadata": {},
   "outputs": [],
   "source": [
    "# Writing a File (without overwriting) - append mode\n",
    "\n",
    "with open('example.txt', 'a') as file:\n",
    "    file.write('This is the third line\\n')\n",
    "    file.write('This is the fourth line\\n')"
   ]
  },
  {
   "cell_type": "code",
   "execution_count": 6,
   "metadata": {},
   "outputs": [],
   "source": [
    "# writing a list of lines to a file\n",
    "\n",
    "lines=['First line\\n', 'Second line\\n', 'Third line\\n']\n",
    "with open('example.txt', 'a') as file:\n",
    "    file.writelines(lines) # Write a list of lines to the file"
   ]
  },
  {
   "cell_type": "code",
   "execution_count": 7,
   "metadata": {},
   "outputs": [],
   "source": [
    "# Binary Files\n",
    "\n",
    "# Writing to a binary file\n",
    "\n",
    "data = b'\\x00\\x01\\x02\\x03\\x04\\x05\\x06\\x07\\x08\\x09'\n",
    "with open('example.bin', 'wb') as file:  # Open file for writing in binary mode\n",
    "    file.write(data)"
   ]
  },
  {
   "cell_type": "code",
   "execution_count": 9,
   "metadata": {},
   "outputs": [
    {
     "name": "stdout",
     "output_type": "stream",
     "text": [
      "b'\\x00\\x01\\x02\\x03\\x04\\x05\\x06\\x07\\x08\\t'\n"
     ]
    }
   ],
   "source": [
    "# Reading from a binary file\n",
    "\n",
    "with open('example.bin', 'rb') as file:\n",
    "    content = file.read()\n",
    "    print(content)"
   ]
  },
  {
   "cell_type": "code",
   "execution_count": 10,
   "metadata": {},
   "outputs": [],
   "source": [
    "# Read the content from source text file and write it to destination text file\n",
    "\n",
    "# Copying a text file\n",
    "with open('example.txt', 'r') as source_file:\n",
    "    content = source_file.read()\n",
    "\n",
    "with open('destination.txt', 'w') as destination_file:\n",
    "    destination_file.write(content)     # Write the content to the destination file"
   ]
  },
  {
   "cell_type": "code",
   "execution_count": 11,
   "metadata": {},
   "outputs": [
    {
     "name": "stdout",
     "output_type": "stream",
     "text": [
      "Lines: 7\n",
      "Words: 26\n",
      "Characters: 128\n"
     ]
    }
   ],
   "source": [
    "# Read a text file and count the number of lines, words, and characters\n",
    "\n",
    "# Counting lines, words, and characters in a text file\n",
    "\n",
    "lines = 0\n",
    "words = 0\n",
    "characters = 0\n",
    "with open('example.txt', 'r') as file: # Open file for reading\n",
    "    for line in file: # Read the file line by line\n",
    "        lines += 1  # Increment line count\n",
    "        words += len(line.split())  # Increment word count # Split the line into words\n",
    "        characters += len(line) # Increment character count\n",
    "print(f'Lines: {lines}')\n",
    "print(f'Words: {words}')\n",
    "print(f'Characters: {characters}')"
   ]
  },
  {
   "cell_type": "code",
   "execution_count": 15,
   "metadata": {},
   "outputs": [
    {
     "name": "stdout",
     "output_type": "stream",
     "text": [
      "hey Hello World\n",
      "This is a new line\n",
      "\n"
     ]
    }
   ],
   "source": [
    "# Writing and then reading a file\n",
    "\n",
    "# The w+ mode in python opens a file for both reading and writing. If the file does not exist, it creates a new file. If the file exists, it truncates the file.(i.e., the file is overwritten)\n",
    "\n",
    "\n",
    "with open('example.txt', 'w+') as file:\n",
    "    file.write('hey Hello World\\n')\n",
    "    file.write('This is a new line\\n')\n",
    "\n",
    "    ## Move the file cursor to the beginning of the file\n",
    "    file.seek(0)\n",
    "\n",
    "    ## Read the content of the file\n",
    "    content = file.read()\n",
    "    print(content)"
   ]
  }
 ],
 "metadata": {
  "kernelspec": {
   "display_name": "venv",
   "language": "python",
   "name": "python3"
  },
  "language_info": {
   "codemirror_mode": {
    "name": "ipython",
    "version": 3
   },
   "file_extension": ".py",
   "mimetype": "text/x-python",
   "name": "python",
   "nbconvert_exporter": "python",
   "pygments_lexer": "ipython3",
   "version": "3.12.0"
  }
 },
 "nbformat": 4,
 "nbformat_minor": 2
}
